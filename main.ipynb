{
 "cells": [
  {
   "metadata": {
    "ExecuteTime": {
     "end_time": "2024-05-24T17:43:02.631077Z",
     "start_time": "2024-05-24T17:42:59.993805Z"
    }
   },
   "cell_type": "code",
   "source": [
    "import pandas as pd\n",
    "import ipywidgets as widgets\n",
    "from IPython.display import display\n",
    "from matplotlib import pyplot as plt\n",
    "from reportlab.lib.pagesizes import letter\n",
    "from reportlab.pdfgen import canvas\n",
    "\n",
    "file_path = 'витрати_10000.csv'\n",
    "data = pd.read_csv(file_path)\n",
    "\n",
    "print(data.head())\n",
    "\n",
    "class ExpenseManager:\n",
    "    def __init__(self, data):\n",
    "        self.data = data\n",
    "\n",
    "    def add_expense(self, date, category, amount):\n",
    "        new_expense = pd.DataFrame({\"Date\": [date], \"Category\": [category], \"Amount\": [amount]})\n",
    "        self.data = pd.concat([self.data, new_expense], ignore_index=True)\n",
    "\n",
    "    def remove_expense(self, index):\n",
    "        if index in self.data.index:\n",
    "            self.data = self.data.drop(index)\n",
    "        else:\n",
    "            print(\"Expense not found.\")\n",
    "\n",
    "    def analyze_expenses(self, period='Month'):\n",
    "        if period == 'Day':\n",
    "            return self.data.groupby(self.data['Date']).sum()\n",
    "        elif period == 'Week':\n",
    "            self.data['Week'] = pd.to_datetime(self.data['Date']).dt.isocalendar().week\n",
    "            return self.data.groupby('Week').sum()\n",
    "        elif period == 'Month':\n",
    "            self.data['Month'] = pd.to_datetime(self.data['Date']).dt.to_period('M')\n",
    "            return self.data.groupby('Month').sum()\n",
    "        else:\n",
    "            print(\"Invalid period.\")\n",
    "\n",
    "em = ExpenseManager(data)\n",
    "\n",
    "date_input = widgets.DatePicker(description='Date:')\n",
    "category_input = widgets.Text(description='Category:')\n",
    "amount_input = widgets.FloatText(description='Amount:')\n",
    "add_button = widgets.Button(description='Add Expense')\n",
    "remove_index_input = widgets.IntText(description='Index:')\n",
    "remove_button = widgets.Button(description='Remove Expense')\n",
    "display_button = widgets.Button(description='Display Data')\n",
    "\n",
    "def add_expense(b):\n",
    "    em.add_expense(date_input.value, category_input.value, amount_input.value)\n",
    "    print(f\"Added expense: {date_input.value}, {category_input.value}, {amount_input.value}\")\n",
    "\n",
    "def remove_expense(b):\n",
    "    em.remove_expense(remove_index_input.value)\n",
    "    print(f\"Removed expense at index: {remove_index_input.value}\")\n",
    "\n",
    "def display_data(b):\n",
    "    display(em.data)\n",
    "\n",
    "add_button.on_click(add_expense)\n",
    "remove_button.on_click(remove_expense)\n",
    "display_button.on_click(display_data)\n",
    "\n",
    "display(date_input, category_input, amount_input, add_button, remove_index_input, remove_button, display_button)\n",
    "\n",
    "period_input = widgets.Dropdown(options=['Day', 'Week', 'Month'], description='Period:')\n",
    "analyze_button = widgets.Button(description='Analyze Expenses')\n",
    "\n",
    "def analyze_expenses(b):\n",
    "    period = period_input.value\n",
    "    analysis = em.analyze_expenses(period)\n",
    "    display(analysis)\n",
    "    analysis.plot(kind='bar')\n",
    "    plt.show()\n",
    "\n",
    "analyze_button.on_click(analyze_expenses)\n",
    "\n",
    "display(period_input, analyze_button)\n",
    "\n",
    "def generate_pdf_report(data, filename='expense_report.pdf'):\n",
    "    c = canvas.Canvas(filename, pagesize=letter)\n",
    "    width, height = letter\n",
    "    c.drawString(30, height - 40, \"Expense Report\")\n",
    "    \n",
    "    y = height - 80\n",
    "    for i, row in data.iterrows():\n",
    "        c.drawString(30, y, f\"{row['Date']} - {row['Category']} - ${row['Amount']}\")\n",
    "        y -= 20\n",
    "        if y < 40:\n",
    "            c.showPage()\n",
    "            y = height - 40\n",
    "    \n",
    "    c.save()\n",
    "\n",
    "pdf_button = widgets.Button(description='Generate PDF Report')\n",
    "\n",
    "def create_pdf_report(b):\n",
    "    generate_pdf_report(em.data)\n",
    "    print(\"PDF report generated.\")\n",
    "\n",
    "pdf_button.on_click(create_pdf_report)\n",
    "\n",
    "display(pdf_button)"
   ],
   "id": "5fc763ddc042c480",
   "outputs": [
    {
     "name": "stdout",
     "output_type": "stream",
     "text": [
      "       Дата Категорія        Сума\n",
      "0  1/1/2023       Їжа  110.079600\n",
      "1  1/2/2023       Їжа  154.236772\n",
      "2  1/3/2023      Одяг  116.260144\n",
      "3  1/4/2023       Їжа  114.709752\n",
      "4  1/5/2023      Одяг  150.067388\n"
     ]
    },
    {
     "data": {
      "text/plain": [
       "DatePicker(value=None, description='Date:', step=1)"
      ],
      "application/vnd.jupyter.widget-view+json": {
       "version_major": 2,
       "version_minor": 0,
       "model_id": "e6fc1e274c22470db90a0eadb6ace34f"
      }
     },
     "metadata": {},
     "output_type": "display_data"
    },
    {
     "data": {
      "text/plain": [
       "Text(value='', description='Category:')"
      ],
      "application/vnd.jupyter.widget-view+json": {
       "version_major": 2,
       "version_minor": 0,
       "model_id": "f6443dd0dcf44cfe83c88c2f1e410e5d"
      }
     },
     "metadata": {},
     "output_type": "display_data"
    },
    {
     "data": {
      "text/plain": [
       "FloatText(value=0.0, description='Amount:')"
      ],
      "application/vnd.jupyter.widget-view+json": {
       "version_major": 2,
       "version_minor": 0,
       "model_id": "7e53584ee03747859464af502fa04f21"
      }
     },
     "metadata": {},
     "output_type": "display_data"
    },
    {
     "data": {
      "text/plain": [
       "Button(description='Add Expense', style=ButtonStyle())"
      ],
      "application/vnd.jupyter.widget-view+json": {
       "version_major": 2,
       "version_minor": 0,
       "model_id": "43ca36091d20425c8978dbf59025ad4c"
      }
     },
     "metadata": {},
     "output_type": "display_data"
    },
    {
     "data": {
      "text/plain": [
       "IntText(value=0, description='Index:')"
      ],
      "application/vnd.jupyter.widget-view+json": {
       "version_major": 2,
       "version_minor": 0,
       "model_id": "618fa0d673fe4bad8b1c8b979732ff7d"
      }
     },
     "metadata": {},
     "output_type": "display_data"
    },
    {
     "data": {
      "text/plain": [
       "Button(description='Remove Expense', style=ButtonStyle())"
      ],
      "application/vnd.jupyter.widget-view+json": {
       "version_major": 2,
       "version_minor": 0,
       "model_id": "2a7f5a90025f4726a7e32164a4fc7f31"
      }
     },
     "metadata": {},
     "output_type": "display_data"
    },
    {
     "data": {
      "text/plain": [
       "Button(description='Display Data', style=ButtonStyle())"
      ],
      "application/vnd.jupyter.widget-view+json": {
       "version_major": 2,
       "version_minor": 0,
       "model_id": "53cf26c60eee4d00b607e6cd98dbe352"
      }
     },
     "metadata": {},
     "output_type": "display_data"
    },
    {
     "data": {
      "text/plain": [
       "Dropdown(description='Period:', options=('Day', 'Week', 'Month'), value='Day')"
      ],
      "application/vnd.jupyter.widget-view+json": {
       "version_major": 2,
       "version_minor": 0,
       "model_id": "58036fc3e95d4313b1b1d11427fedf85"
      }
     },
     "metadata": {},
     "output_type": "display_data"
    },
    {
     "data": {
      "text/plain": [
       "Button(description='Analyze Expenses', style=ButtonStyle())"
      ],
      "application/vnd.jupyter.widget-view+json": {
       "version_major": 2,
       "version_minor": 0,
       "model_id": "17c110d6b12a423ab70fc6f087a77f01"
      }
     },
     "metadata": {},
     "output_type": "display_data"
    },
    {
     "data": {
      "text/plain": [
       "Button(description='Generate PDF Report', style=ButtonStyle())"
      ],
      "application/vnd.jupyter.widget-view+json": {
       "version_major": 2,
       "version_minor": 0,
       "model_id": "4da485dfb29b4cdfbd527411c2d0d8be"
      }
     },
     "metadata": {},
     "output_type": "display_data"
    }
   ],
   "execution_count": 1
  },
  {
   "metadata": {},
   "cell_type": "code",
   "outputs": [],
   "execution_count": null,
   "source": "",
   "id": "d6209617a4d00f03"
  }
 ],
 "metadata": {
  "kernelspec": {
   "display_name": "Python 3",
   "language": "python",
   "name": "python3"
  },
  "language_info": {
   "codemirror_mode": {
    "name": "ipython",
    "version": 2
   },
   "file_extension": ".py",
   "mimetype": "text/x-python",
   "name": "python",
   "nbconvert_exporter": "python",
   "pygments_lexer": "ipython2",
   "version": "2.7.6"
  }
 },
 "nbformat": 4,
 "nbformat_minor": 5
}
